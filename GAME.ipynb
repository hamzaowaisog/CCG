{
 "cells": [
  {
   "cell_type": "code",
   "execution_count": 1,
   "id": "6c9ffb1b",
   "metadata": {},
   "outputs": [],
   "source": [
    "import random"
   ]
  },
  {
   "cell_type": "code",
   "execution_count": 5,
   "id": "81137b79",
   "metadata": {},
   "outputs": [],
   "source": [
    "computer_score=0\n",
    "player_score=0"
   ]
  },
  {
   "cell_type": "code",
   "execution_count": 7,
   "id": "ba3d641c",
   "metadata": {},
   "outputs": [
    {
     "name": "stdout",
     "output_type": "stream",
     "text": [
      "player choose the number\n",
      "1=red \n",
      "2=yellow \n",
      "3=Orange \n",
      "4=Blue \n",
      "5=Green\n",
      "Enter the number2\n",
      "Player color choice is Yellow\n",
      "Computer color choice is Yellow\n",
      "Do you want to play again:n\n",
      "\n",
      "<== Computer wins ==>\n",
      "Player score is 1\n",
      "Computer score is 3\n",
      "\n",
      "Player is Defeated\n",
      "\n",
      "Thanks for playing\n"
     ]
    }
   ],
   "source": [
    "while True:\n",
    "    print(\"player choose the number\")\n",
    "    print(\"1=red \\n2=yellow \\n3=Orange \\n4=Blue \\n5=Green\")\n",
    "    \n",
    "    player_choice=int(input(\"Enter the number\"))\n",
    "    \n",
    "    while player_choice>5 and player_choice <1:\n",
    "        player_choice = int(input(\"Enter correct number between 1-5\"))\n",
    "        \n",
    "    if player_choice == 1:\n",
    "        player_color = \"red\"\n",
    "    elif player_choice == 2:\n",
    "        player_color = \"Yellow\"\n",
    "    elif player_choice == 3:\n",
    "        player_color = \"Orange\"\n",
    "    elif player_choice == 4 :\n",
    "        player_color= \"Blue\"\n",
    "    else :\n",
    "        player_color = \"Green\"\n",
    "        \n",
    "    print(\"Player color choice is \"+player_color)\n",
    "    \n",
    "    computer_choice=random.randint(1,5)\n",
    "    \n",
    "    if computer_choice == 1:\n",
    "        computer_color = \"red\"\n",
    "    elif computer_choice == 2:\n",
    "        computer_color = \"Yellow\"\n",
    "    elif computer_choice == 3:\n",
    "        computer_color = \"Orange\"\n",
    "    elif computer_choice == 4 :\n",
    "        computer_color= \"Blue\"\n",
    "    else :\n",
    "        computer_color = \"Green\"\n",
    "        \n",
    "    print(\"Computer color choice is \"+computer_color)\n",
    "        \n",
    "    if player_color == computer_color:\n",
    "        player_score +=1\n",
    "    else:\n",
    "        computer_score +=1\n",
    "        \n",
    "    choice = input(\"Do you want to play again:\")\n",
    "    \n",
    "    if choice == \"n\" or choice == \"N\":\n",
    "        break\n",
    "\n",
    "        \n",
    "if computer_score == player_score:\n",
    "    print(\"Game is Tied\")\n",
    "    print(\"Player score is \"+str(player_score))\n",
    "    print(\"Computer score is \"+str(computer_score))\n",
    "    print(\"\\nThanks for playing\") \n",
    "elif computer_score < player_score:\n",
    "    print(\"Player is Victorious\")\n",
    "    print(\"Player score is \"+str(player_score))\n",
    "    print(\"Computer score is \"+str(computer_score))\n",
    "    print(\"<== User wins ==>\")\n",
    "    print(\"\\nThanks for playing\")\n",
    "elif computer_score > player_score:\n",
    "    print(\"\\n<== Computer wins ==>\")\n",
    "    print(\"Player score is \"+str(player_score))\n",
    "    print(\"Computer score is \"+str(computer_score))\n",
    "    print(\"\\nPlayer is Defeated\")\n",
    "    print(\"\\nThanks for playing\")    "
   ]
  },
  {
   "cell_type": "code",
   "execution_count": null,
   "id": "71ac3b0e",
   "metadata": {},
   "outputs": [],
   "source": []
  }
 ],
 "metadata": {
  "kernelspec": {
   "display_name": "Python 3",
   "language": "python",
   "name": "python3"
  },
  "language_info": {
   "codemirror_mode": {
    "name": "ipython",
    "version": 3
   },
   "file_extension": ".py",
   "mimetype": "text/x-python",
   "name": "python",
   "nbconvert_exporter": "python",
   "pygments_lexer": "ipython3",
   "version": "3.8.8"
  }
 },
 "nbformat": 4,
 "nbformat_minor": 5
}
